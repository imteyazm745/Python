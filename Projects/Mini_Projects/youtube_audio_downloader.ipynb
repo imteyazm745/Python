{
 "cells": [
  {
   "cell_type": "code",
   "execution_count": 8,
   "metadata": {},
   "outputs": [],
   "source": [
    "!pip -q install pytube"
   ]
  },
  {
   "cell_type": "code",
   "execution_count": 9,
   "metadata": {},
   "outputs": [],
   "source": [
    "def youtube_audio_downloader(link):\n",
    "    from pytube import YouTube\n",
    "    import os\n",
    "    import re\n",
    "    if 'youtu' not in link:\n",
    "        print('Invalid YouTube link!')\n",
    "        return False\n",
    "    \n",
    "    yt = YouTube('https://youtu.be/ID1yG3flxJs')\n",
    "    audio = yt.streams.filter(only_audio=True).first()\n",
    "    print('Downloading the audio stream ....', end = '')\n",
    "    output_file = audio.download()\n",
    "    if os.path.exists(output_file):\n",
    "        print('Done!')\n",
    "    else:\n",
    "        print('Error downloading the file!')\n",
    "        return False\n",
    "    \n",
    "    basename = os.path.basename(output_file)\n",
    "    name, extension = os.path.splitext(basename)\n",
    "    audio_file = f'{name}.mp3'\n",
    "    audio_file = re.sub('\\s+', '_', audio_file)\n",
    "    print(f'Renaming {basename} to {audio_file}')\n",
    "    os.rename(basename, audio_file)\n",
    "    return audio_file"
   ]
  },
  {
   "cell_type": "code",
   "execution_count": 12,
   "metadata": {},
   "outputs": [
    {
     "name": "stdout",
     "output_type": "stream",
     "text": [
      "Downloading the audio stream ....Done!\n",
      "Renaming Surah Al kahf 1-10 Mishary Rashid Alafasy.mp4 to Surah_Al_kahf_1-10_Mishary_Rashid_Alafasy.mp3\n",
      "Surah_Al_kahf_1-10_Mishary_Rashid_Alafasy.mp3\n"
     ]
    }
   ],
   "source": [
    "mp3_file = youtube_audio_downloader('https://youtu.be/ID1yG3flxJs')\n",
    "print(mp3_file)"
   ]
  }
 ],
 "metadata": {
  "kernelspec": {
   "display_name": "Python 3",
   "language": "python",
   "name": "python3"
  },
  "language_info": {
   "codemirror_mode": {
    "name": "ipython",
    "version": 3
   },
   "file_extension": ".py",
   "mimetype": "text/x-python",
   "name": "python",
   "nbconvert_exporter": "python",
   "pygments_lexer": "ipython3",
   "version": "3.8.10"
  }
 },
 "nbformat": 4,
 "nbformat_minor": 4
}
